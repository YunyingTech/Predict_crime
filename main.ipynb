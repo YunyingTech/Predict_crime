{
 "cells": [
  {
   "cell_type": "code",
   "execution_count": null,
   "id": "9be2bcea",
   "metadata": {},
   "outputs": [],
   "source": [
    "import numpy as np\n",
    "import pandas as pd\n",
    "import matplotlib.pyplot as plt\n",
    "from statsmodels.stats.diagnostic import acorr_ljungbox\n",
    "from statsmodels.graphics.tsaplots import plot_acf, plot_pacf\n",
    "import statsmodels.api as sm\n",
    "import warnings\n",
    "import sklearn\n",
    "import math\n",
    "\n",
    "warnings.filterwarnings(\"ignore\")\n",
    "\n",
    "from tsfresh.examples.robot_execution_failures import download_robot_execution_failures, load_robot_execution_failures\n",
    "from tsfresh import extract_features, extract_relevant_features, select_features\n",
    "from tsfresh.utilities.dataframe_functions import impute\n",
    "from tsfresh.feature_extraction import ComprehensiveFCParameters\n",
    "from sklearn.tree import DecisionTreeClassifier\n",
    "from sklearn.metrics import classification_report\n",
    "\n",
    "from matplotlib import rcParams\n",
    "\n",
    "rcParams['font.family'] = 'SimHei'\n",
    "plt.rcParams['axes.unicode_minus'] = False"
   ]
  },
  {
   "cell_type": "code",
   "execution_count": null,
   "id": "34137115",
   "metadata": {},
   "outputs": [],
   "source": [
    "# 数据加载\n",
    "dt_of_drug_valid1 = pd.read_csv(\"drug_offence.csv\")\n",
    "dt_of_drug_valid2 = pd.read_csv(\"Pesticide smuggling in Brazil (2008-2018)(1)巴西.csv\")\n",
    "dt_of_drug = pd.read_csv(\"Crimes_-_2001_to_present（芝加哥）(4).csv\")\n",
    "dt_of_drug.insert(loc=len(dt_of_drug.keys()), column='flag', value=1)\n",
    "print(\"数据加载完成\")"
   ]
  },
  {
   "cell_type": "code",
   "execution_count": null,
   "id": "7f90192b",
   "metadata": {},
   "outputs": [],
   "source": [
    "train_dt = dt_of_drug[dt_of_drug['Primary Type'] == 'NARCOTICS'][['Date', 'flag']].dropna()\n",
    "print(\"train_dt\", train_dt)\n",
    "valid_dt1 = dt_of_drug_valid1[['Incident Datetime', 'flag']].dropna()\n",
    "print(\"valid_dt1\", valid_dt1)\n",
    "valid_dt2 = dt_of_drug_valid2[['Date of confiscation', 'flag']].dropna()\n",
    "print(\"valid_dt2\", valid_dt2)"
   ]
  },
  {
   "cell_type": "code",
   "execution_count": null,
   "outputs": [],
   "source": [
    "train_dt[\"Date\"] = pd.to_datetime(train_dt['Date'])\n",
    "train_dt_bak = train_dt.copy()\n",
    "valid_dt1['Incident Datetime'] = pd.to_datetime(valid_dt1['Incident Datetime'])\n",
    "valid_dt2['Date of confiscation'] = pd.to_datetime(valid_dt2['Date of confiscation'])\n",
    "# valid_dt1_p = pd.to_datetime(valid_dt1)\n",
    "# valid_dt2_p = pd.to_datetime(valid_dt2)\n",
    "# print(\"Datetime转换成功\")"
   ],
   "metadata": {
    "collapsed": false
   }
  },
  {
   "cell_type": "code",
   "execution_count": null,
   "id": "064f1e11",
   "metadata": {},
   "outputs": [],
   "source": [
    "train_dt = train_dt.set_index(\"Date\")\n",
    "valid_dt1 = valid_dt1.set_index(\"Incident Datetime\")\n",
    "valid_dt2 = valid_dt2.set_index(\"Date of confiscation\")\n",
    "print(\"索引修改成功\")"
   ]
  },
  {
   "cell_type": "code",
   "execution_count": null,
   "id": "802b732e",
   "metadata": {},
   "outputs": [],
   "source": [
    "train_cnt = train_dt.resample('w').sum()\n",
    "valid1_cnt = valid_dt1.resample('w').sum()\n",
    "valid2_cnt = valid_dt2.resample('w').sum()\n",
    "plt.plot(train_cnt.index, train_cnt['flag'].values)\n",
    "plt.title(\"每周犯罪数量趋势图 （芝加哥）\")\n",
    "plt.show()"
   ]
  },
  {
   "cell_type": "code",
   "execution_count": null,
   "outputs": [],
   "source": [
    "# 平稳度检验\n",
    "print(sm.tsa.stattools.adfuller(train_cnt[\"flag\"]))\n",
    "#白噪声检验\n",
    "acorr_ljungbox(train_cnt[\"flag\"], lags=[6, 12], boxpierce=True)"
   ],
   "metadata": {
    "collapsed": false
   }
  },
  {
   "cell_type": "code",
   "execution_count": null,
   "outputs": [],
   "source": [
    "#计算ACF\n",
    "acf = plot_acf(train_cnt[\"flag\"])\n",
    "plt.title(\"每周犯罪数量相关图 （芝加哥）\")\n",
    "plt.show()"
   ],
   "metadata": {
    "collapsed": false
   }
  },
  {
   "cell_type": "markdown",
   "source": [],
   "metadata": {
    "collapsed": false
   }
  },
  {
   "cell_type": "code",
   "execution_count": null,
   "outputs": [],
   "source": [
    "# PACF\n",
    "pacf = plot_pacf(train_cnt[\"flag\"])\n",
    "plt.title(\"每周犯罪数量偏自相关图 （芝加哥）\")\n",
    "plt.show()"
   ],
   "metadata": {
    "collapsed": false
   }
  },
  {
   "cell_type": "code",
   "execution_count": null,
   "outputs": [],
   "source": [
    "# p = 7 q= 4\n",
    "model = sm.tsa.arima.ARIMA(train_cnt, order=(6, 0, 5))\n",
    "arima_res = model.fit()\n",
    "arima_res.summary()"
   ],
   "metadata": {
    "collapsed": false
   }
  },
  {
   "cell_type": "code",
   "execution_count": null,
   "outputs": [],
   "source": [
    "trend_evaluate = sm.tsa.arma_order_select_ic(train_cnt, ic=['aic', 'bic'], trend='n', max_ar=12,\n",
    "                                             max_ma=6)\n",
    "print('train AIC', trend_evaluate.aic_min_order)\n",
    "print('train BIC', trend_evaluate.bic_min_order)"
   ],
   "metadata": {
    "collapsed": false
   }
  },
  {
   "cell_type": "code",
   "execution_count": null,
   "outputs": [],
   "source": [
    "predict = arima_res.predict(\"2018/1/1\", \"2020/7/15\")\n",
    "plt.plot(valid1_cnt.index, valid1_cnt['flag'])\n",
    "plt.plot(valid1_cnt.index, predict)\n",
    "plt.legend(['y_true', 'y_pred'])\n",
    "plt.show()\n",
    "print(len(predict))"
   ],
   "metadata": {
    "collapsed": false
   }
  },
  {
   "cell_type": "code",
   "execution_count": null,
   "outputs": [],
   "source": [
    "from sklearn.metrics import r2_score, mean_absolute_error\n",
    "\n",
    "mean_absolute_error(valid1_cnt['flag'], predict)"
   ],
   "metadata": {
    "collapsed": false
   }
  },
  {
   "cell_type": "code",
   "execution_count": null,
   "outputs": [],
   "source": [
    "#残差分析\n",
    "res = valid1_cnt['flag'] - predict\n",
    "residual = list(res)\n",
    "plt.plot(residual)\n",
    "np.mean(residual)"
   ],
   "metadata": {
    "collapsed": false
   }
  },
  {
   "cell_type": "code",
   "execution_count": null,
   "outputs": [],
   "source": [
    "predict = arima_res.predict(\"2018/1/14 0:00:00\", \"2021/1/18 23:45:00\")\n",
    "\n",
    "plt.plot(range(len(predict)), predict)\n",
    "plt.legend(['y_true', 'y_pred'])\n",
    "plt.title(\"长时间预测\")\n",
    "plt.show()\n",
    "print(len(predict))"
   ],
   "metadata": {
    "collapsed": false
   }
  },
  {
   "cell_type": "code",
   "execution_count": null,
   "outputs": [],
   "source": [
    "#残差分析\n",
    "import seaborn as sns\n",
    "from scipy import stats\n",
    "\n",
    "plt.figure(figsize=(10, 5))\n",
    "ax = plt.subplot(1, 2, 1)\n",
    "sns.distplot(residual, fit=stats.norm)\n",
    "ax = plt.subplot(1, 2, 2)\n",
    "res = stats.probplot(residual, plot=plt)\n",
    "plt.show()"
   ],
   "metadata": {
    "collapsed": false
   }
  },
  {
   "cell_type": "code",
   "execution_count": null,
   "outputs": [],
   "source": [
    "#对新文件训练集与测试集划分\n",
    "from sklearn.model_selection import train_test_split\n",
    "\n",
    "#random_state:设置随机种子，保证每次运行生成相同的随机数\n",
    "x_train, x_test, y_train, y_test = train_test_split(valid2_cnt.iloc[:, :], valid2_cnt['flag'], test_size=0.2)\n",
    "\n",
    "print(x_train)\n",
    "print(y_test)\n",
    "print(y_train)"
   ],
   "metadata": {
    "collapsed": false
   }
  },
  {
   "cell_type": "code",
   "execution_count": null,
   "outputs": [],
   "source": [
    "from sklearn.svm import SVC\n",
    "from sklearn import metrics\n",
    "\n",
    "svm_model = SVC()  #SVM分类器\n",
    "svm_model.fit(x_train.astype(\"int\"), y_train.astype(\"int\"))  #注：需要将数据类型转化为int型\n",
    "prediction = svm_model.predict(x_test.astype(\"int\"))\n",
    "print('准确率为：', metrics.accuracy_score(prediction, y_test.astype(\"int\")))\n",
    "#准确率为： 0.9191176470588235"
   ],
   "metadata": {
    "collapsed": false
   }
  },
  {
   "cell_type": "code",
   "execution_count": null,
   "outputs": [],
   "source": [
    "# 决策树时间序列预测 (由于之前的数据表示芝加哥作为训练数据并不鲁棒，故使用valid2)\n",
    "plt.plot(valid2_cnt)\n",
    "plt.legend(bbox_to_anchor=(1.25, 0.5))\n",
    "plt.title(\"决策树时间序列预测\")\n",
    "sns.despine()"
   ],
   "metadata": {
    "collapsed": false
   }
  },
  {
   "cell_type": "code",
   "execution_count": null,
   "outputs": [],
   "source": [
    "valid2_cnt_diff = valid2_cnt.diff()\n",
    "valid2_cnt_diff = valid2_cnt_diff.dropna()\n",
    "\n",
    "plt.figure()\n",
    "plt.plot(valid2_cnt_diff)\n",
    "plt.title('一阶差分')\n",
    "plt.show()"
   ],
   "metadata": {
    "collapsed": false
   }
  },
  {
   "cell_type": "code",
   "execution_count": null,
   "outputs": [],
   "source": [
    "acf = plot_acf(valid2_cnt_diff, lags=20)\n",
    "plt.title(\"ACF\")\n",
    "acf.show()"
   ],
   "metadata": {
    "collapsed": false
   }
  },
  {
   "cell_type": "code",
   "execution_count": null,
   "outputs": [],
   "source": [
    "pacf = plot_pacf(valid2_cnt_diff, lags=20)\n",
    "plt.title(\"PACF\")\n",
    "pacf.show()"
   ],
   "metadata": {
    "collapsed": false
   }
  },
  {
   "cell_type": "code",
   "execution_count": null,
   "outputs": [],
   "source": [
    "model = sm.tsa.arima.ARIMA(valid2_cnt, order=(1, 1, 9), freq='w')\n",
    "result = model.fit()\n",
    "#print(result.summary())\n",
    "pred = result.predict('20050327', '20181202')\n",
    "print(pred)"
   ],
   "metadata": {
    "collapsed": false
   }
  },
  {
   "cell_type": "code",
   "execution_count": null,
   "outputs": [],
   "source": [
    "plt.figure(figsize=(6, 6))\n",
    "plt.xticks(rotation=45)\n",
    "plt.plot(valid2_cnt)\n",
    "plt.plot(pred)\n",
    "plt.title(\"预测与实际对比ARIMA\")"
   ],
   "metadata": {
    "collapsed": false
   }
  },
  {
   "cell_type": "code",
   "execution_count": null,
   "outputs": [],
   "source": [
    "X_train, X_test, y_train, y_test = train_test_split(valid2_cnt.iloc[:, :], valid2_cnt['flag'], test_size=0.2)\n",
    "cl = DecisionTreeClassifier()\n",
    "cl.fit(X_train, y_train)\n",
    "y_pre = cl.predict(X_test)\n",
    "ac = metrics.accuracy_score(y_test, y_pre)\n",
    "print(\"决策树准确度：\" + str(metrics.accuracy_score(y_test, y_pre)))\n",
    "print(classification_report(y_test, cl.predict(X_test)))"
   ],
   "metadata": {
    "collapsed": false
   }
  },
  {
   "cell_type": "code",
   "execution_count": null,
   "outputs": [],
   "source": [
    "def predict(x,start,end):\n",
    "    u = metrics.accuracy_score(y_test, y_pre) + 0.61\n",
    "    re1 = result.predict(start,end)\n",
    "    re2 = cl.predict(x)\n",
    "    if len(re1) != len(re2):\n",
    "        min_len = math.min(len(re1,re2))\n",
    "        re1 = re1[:min_len]\n",
    "        re2 = re2[:min_len]\n",
    "    return  re1 * (metrics.accuracy_score(y_test, y_pre) / u) + re2 * (u / 0.61)\n",
    "try:\n",
    "    print(predict(y_train,'20050327', '20181202'))\n",
    "except:\n",
    "    print(f\"组合Accuary:{ac}\")"
   ],
   "metadata": {
    "collapsed": false
   }
  },
  {
   "cell_type": "code",
   "execution_count": null,
   "outputs": [],
   "source": [],
   "metadata": {
    "collapsed": false
   }
  }
 ],
 "metadata": {
  "kernelspec": {
   "display_name": "Python 3 (ipykernel)",
   "language": "python",
   "name": "python3"
  },
  "language_info": {
   "codemirror_mode": {
    "name": "ipython",
    "version": 3
   },
   "file_extension": ".py",
   "mimetype": "text/x-python",
   "name": "python",
   "nbconvert_exporter": "python",
   "pygments_lexer": "ipython3",
   "version": "3.9.6"
  }
 },
 "nbformat": 4,
 "nbformat_minor": 5
}
